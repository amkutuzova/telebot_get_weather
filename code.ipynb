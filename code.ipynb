{
  "nbformat": 4,
  "nbformat_minor": 0,
  "metadata": {
    "colab": {
      "provenance": [],
      "authorship_tag": "ABX9TyPA5UEB3hTzJd/lCsAhnHdK",
      "include_colab_link": true
    },
    "kernelspec": {
      "name": "python3",
      "display_name": "Python 3"
    },
    "language_info": {
      "name": "python"
    }
  },
  "cells": [
    {
      "cell_type": "markdown",
      "metadata": {
        "id": "view-in-github",
        "colab_type": "text"
      },
      "source": [
        "<a href=\"https://colab.research.google.com/github/amkutuzova/telebot_get_weather/blob/main/code.ipynb\" target=\"_parent\"><img src=\"https://colab.research.google.com/assets/colab-badge.svg\" alt=\"Open In Colab\"/></a>"
      ]
    },
    {
      "cell_type": "code",
      "source": [
        "!pip install pytelegrambotapi"
      ],
      "metadata": {
        "id": "fprFr0Qc37U3",
        "collapsed": true
      },
      "execution_count": null,
      "outputs": []
    },
    {
      "cell_type": "code",
      "source": [
        "#бот показывает погоду\n",
        "import telebot\n",
        "import requests\n",
        "from telebot import types\n",
        "\n",
        "with open('token.txt') as f:\n",
        "    token = f.read()\n",
        "with open('token_weather.txt') as f:\n",
        "    token_weather = f.read()\n",
        "\n",
        "bot = telebot.TeleBot(token)\n",
        "\n",
        "@bot.message_handler(commands=['start'])\n",
        "def send_welcome(message):\n",
        "    markup = types.ReplyKeyboardMarkup(resize_keyboard=True, row_width=2)\n",
        "    btn1 = types.KeyboardButton('Moscow')\n",
        "    btn2 = types.KeyboardButton('Saint Petersburg')\n",
        "    btn3 = types.KeyboardButton('Kazan')\n",
        "    btn4 = types.KeyboardButton('Chita')\n",
        "    markup.add(btn1, btn2, btn3, btn4)\n",
        "    bot.reply_to(message, 'Привет! Я могу рассказать тебе погоду в Москве, Санкт-Петербурге и Казани', reply_markup=markup)\n",
        "\n",
        "@bot.message_handler(func=lambda message: True)\n",
        "def get_weather(message):\n",
        "    city=message.text\n",
        "    url = f\"http://api.openweathermap.org/data/2.5/weather?q={city},ru&appid={token_weather}&units=metric\"\n",
        "    response = requests.get(url)\n",
        "\n",
        "    if response.status_code == 200:\n",
        "        data = response.json()\n",
        "        temperature = data['main']['temp']\n",
        "        description = data['weather'][0]['description']\n",
        "        bot.reply_to(message, f\"Погода в {city}: {temperature}°C, {description}\")\n",
        "    else:\n",
        "        bot.send_message(message, \"Произошла ошибка при получении данных о погоде.\")\n",
        "\n",
        "bot.infinity_polling()"
      ],
      "metadata": {
        "id": "M9FlcAHwTo0v"
      },
      "execution_count": null,
      "outputs": []
    }
  ]
}