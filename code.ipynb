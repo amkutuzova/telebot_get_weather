{
  "nbformat": 4,
  "nbformat_minor": 0,
  "metadata": {
    "colab": {
      "provenance": [],
      "authorship_tag": "ABX9TyPC3nnUc2UBHQP8lcobxx4b",
      "include_colab_link": true
    },
    "kernelspec": {
      "name": "python3",
      "display_name": "Python 3"
    },
    "language_info": {
      "name": "python"
    }
  },
  "cells": [
    {
      "cell_type": "markdown",
      "metadata": {
        "id": "view-in-github",
        "colab_type": "text"
      },
      "source": [
        "<a href=\"https://colab.research.google.com/github/amkutuzova/telebot_get_weather/blob/main/code.ipynb\" target=\"_parent\"><img src=\"https://colab.research.google.com/assets/colab-badge.svg\" alt=\"Open In Colab\"/></a>"
      ]
    },
    {
      "cell_type": "code",
      "source": [
        "!pip install pytelegrambotapi"
      ],
      "metadata": {
        "colab": {
          "base_uri": "https://localhost:8080/"
        },
        "id": "fprFr0Qc37U3",
        "outputId": "1c0f6d78-fba1-4005-bb22-8070f8a221cb",
        "collapsed": true
      },
      "execution_count": 29,
      "outputs": [
        {
          "output_type": "stream",
          "name": "stdout",
          "text": [
            "Requirement already satisfied: pytelegrambotapi in /usr/local/lib/python3.11/dist-packages (4.26.0)\n",
            "Requirement already satisfied: requests in /usr/local/lib/python3.11/dist-packages (from pytelegrambotapi) (2.32.3)\n",
            "Requirement already satisfied: charset-normalizer<4,>=2 in /usr/local/lib/python3.11/dist-packages (from requests->pytelegrambotapi) (3.4.1)\n",
            "Requirement already satisfied: idna<4,>=2.5 in /usr/local/lib/python3.11/dist-packages (from requests->pytelegrambotapi) (3.10)\n",
            "Requirement already satisfied: urllib3<3,>=1.21.1 in /usr/local/lib/python3.11/dist-packages (from requests->pytelegrambotapi) (2.3.0)\n",
            "Requirement already satisfied: certifi>=2017.4.17 in /usr/local/lib/python3.11/dist-packages (from requests->pytelegrambotapi) (2025.1.31)\n"
          ]
        }
      ]
    },
    {
      "cell_type": "code",
      "execution_count": null,
      "metadata": {
        "id": "p-83p_7t3ajv"
      },
      "outputs": [],
      "source": [
        "#15.1 бот повторяет сообщение пользователя\n",
        "import telebot\n",
        "\n",
        "with open('token.txt') as f:\n",
        "    token = f.read()\n",
        "bot = telebot.TeleBot(token)\n",
        "\n",
        "@bot.message_handler(content_types=['text'])\n",
        "def repeat_all_messages(message):\n",
        "    bot.send_message(message.chat.id, {message.text})\n",
        "\n",
        "bot.infinity_polling()"
      ]
    },
    {
      "cell_type": "code",
      "source": [
        "#15.2 бот генерирует случайное число\n",
        "import telebot\n",
        "import random\n",
        "\n",
        "with open('token.txt') as f:\n",
        "    token = f.read()\n",
        "bot = telebot.TeleBot(token)\n",
        "n=random.randint(1,100)\n",
        "\n",
        "@bot.message_handler(commands=['start'])\n",
        "def send_welcome(message):\n",
        "    bot.reply_to(message, 'Я загадал число от 1 до 100. Попробуйте отгадать!')\n",
        "\n",
        "@bot.message_handler(func=lambda message: message.text.isdigit())\n",
        "def get_number(message):\n",
        "    global n\n",
        "    message.text=int(message.text)\n",
        "    if (n==message.text):\n",
        "        bot.send_message(message.chat.id,'Вы угадали число! Чтобы начать заново, напишите /start')\n",
        "    elif (n>message.text):\n",
        "        bot.send_message(message.chat.id,'Загаданное число больше')\n",
        "    elif (n<message.text):\n",
        "        bot.send_message(message.chat.id,'Загаданное число меньше')\n",
        "\n",
        "bot.infinity_polling()"
      ],
      "metadata": {
        "colab": {
          "base_uri": "https://localhost:8080/"
        },
        "collapsed": true,
        "id": "91mjrw4MIYcq",
        "outputId": "58a6564c-2bce-48d3-ce35-4b940f349825"
      },
      "execution_count": 13,
      "outputs": [
        {
          "output_type": "stream",
          "name": "stderr",
          "text": [
            "2025-04-09 20:33:31,392 (__init__.py:1121 MainThread) ERROR - TeleBot: \"Infinity polling: polling exited\"\n",
            "ERROR:TeleBot:Infinity polling: polling exited\n",
            "2025-04-09 20:33:31,395 (__init__.py:1123 MainThread) ERROR - TeleBot: \"Break infinity polling\"\n",
            "ERROR:TeleBot:Break infinity polling\n"
          ]
        }
      ]
    },
    {
      "cell_type": "code",
      "source": [
        "#15.3 бот показывает погоду\n",
        "import telebot\n",
        "import requests\n",
        "from telebot import types\n",
        "\n",
        "with open('token.txt') as f:\n",
        "    token = f.read()\n",
        "with open('token_weather.txt') as f:\n",
        "    token_weather = f.read()\n",
        "\n",
        "bot = telebot.TeleBot(token)\n",
        "\n",
        "@bot.message_handler(commands=['start'])\n",
        "def send_welcome(message):\n",
        "    markup = types.ReplyKeyboardMarkup(resize_keyboard=True, row_width=2)\n",
        "    btn1 = types.KeyboardButton('Moscow')\n",
        "    btn2 = types.KeyboardButton('Saint Petersburg')\n",
        "    btn3 = types.KeyboardButton('Kazan')\n",
        "    btn4 = types.KeyboardButton('Chita')\n",
        "    markup.add(btn1, btn2, btn3, btn4)\n",
        "    bot.reply_to(message, 'Привет! Я могу рассказать тебе погоду в Москве, Санкт-Петербурге и Казани', reply_markup=markup)\n",
        "\n",
        "@bot.message_handler(func=lambda message: True)\n",
        "def get_weather(message):\n",
        "    city=message.text\n",
        "    url = f\"http://api.openweathermap.org/data/2.5/weather?q={city},ru&appid={token_weather}&units=metric\"\n",
        "    response = requests.get(url)\n",
        "\n",
        "    if response.status_code == 200:\n",
        "        data = response.json()\n",
        "        temperature = data['main']['temp']\n",
        "        description = data['weather'][0]['description']\n",
        "        bot.reply_to(message, f\"Погода в {city}: {temperature}°C, {description}\")\n",
        "    else:\n",
        "        bot.send_message(message, \"Произошла ошибка при получении данных о погоде.\")\n",
        "\n",
        "bot.infinity_polling()"
      ],
      "metadata": {
        "colab": {
          "base_uri": "https://localhost:8080/"
        },
        "id": "M9FlcAHwTo0v",
        "outputId": "42766b50-3c26-405c-955e-fb31b077b51d"
      },
      "execution_count": 32,
      "outputs": [
        {
          "output_type": "stream",
          "name": "stderr",
          "text": [
            "2025-04-09 22:07:08,547 (__init__.py:1121 MainThread) ERROR - TeleBot: \"Infinity polling: polling exited\"\n",
            "ERROR:TeleBot:Infinity polling: polling exited\n",
            "2025-04-09 22:07:08,550 (__init__.py:1123 MainThread) ERROR - TeleBot: \"Break infinity polling\"\n",
            "ERROR:TeleBot:Break infinity polling\n"
          ]
        }
      ]
    }
  ]
}